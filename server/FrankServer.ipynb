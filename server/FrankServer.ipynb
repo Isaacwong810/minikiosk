{
 "cells": [
  {
   "cell_type": "code",
   "execution_count": 15,
   "metadata": {},
   "outputs": [
    {
     "name": "stdout",
     "output_type": "stream",
     "text": [
      "flag =  1\n",
      "9c797a18\n",
      "True\n",
      "9c797a18\n",
      "Apple*6/Chips*3/TOSHIBA 64GB USB*1/\n",
      "\n",
      "3\n",
      "Apple*6\n",
      "Chips*3/TOSHIBA 64GB USB*1/\n",
      "\n",
      "Apple\n",
      "6\n",
      "Apple\n",
      "5\n",
      "\n",
      "30\n",
      "Chips*3\n",
      "TOSHIBA 64GB USB*1/\n",
      "\n",
      "Chips\n",
      "3\n",
      "Chips\n",
      "12\n",
      "\n",
      "36\n",
      "TOSHIBA 64GB USB*1\n",
      "\n",
      "\n",
      "TOSHIBA 64GB USB\n",
      "1\n",
      "TOSHIBA 64GB USB\n",
      "60\n",
      "\n",
      "60\n",
      "126\n",
      "{'Apple': '6$5', 'Chips': '3$12', 'TOSHIBA 64GB USB': '1$60'}\n",
      "Chan Tai Man\n",
      "\n",
      "9c797a18$412\n",
      "\n"
     ]
    },
    {
     "ename": "DweepyError",
     "evalue": "Rate limit exceeded, try again in 1 second(s).",
     "output_type": "error",
     "traceback": [
      "\u001b[1;31m---------------------------------------------------------------------------\u001b[0m",
      "\u001b[1;31mDweepyError\u001b[0m                               Traceback (most recent call last)",
      "\u001b[1;32m<ipython-input-15-764f53701916>\u001b[0m in \u001b[0;36m<module>\u001b[1;34m\u001b[0m\n\u001b[0;32m    121\u001b[0m         \u001b[0mprint\u001b[0m\u001b[1;33m(\u001b[0m\u001b[0mlink\u001b[0m\u001b[1;33m)\u001b[0m\u001b[1;33m\u001b[0m\u001b[1;33m\u001b[0m\u001b[0m\n\u001b[0;32m    122\u001b[0m         \u001b[0mtime\u001b[0m\u001b[1;33m.\u001b[0m\u001b[0msleep\u001b[0m\u001b[1;33m(\u001b[0m\u001b[1;36m2\u001b[0m\u001b[1;33m)\u001b[0m\u001b[1;33m\u001b[0m\u001b[1;33m\u001b[0m\u001b[0m\n\u001b[1;32m--> 123\u001b[1;33m         \u001b[0mR\u001b[0m \u001b[1;33m=\u001b[0m \u001b[0mcheckout\u001b[0m\u001b[1;33m(\u001b[0m\u001b[0m_id\u001b[0m\u001b[1;33m)\u001b[0m\u001b[1;33m\u001b[0m\u001b[1;33m\u001b[0m\u001b[0m\n\u001b[0m\u001b[0;32m    124\u001b[0m         \u001b[0mdweepy\u001b[0m\u001b[1;33m.\u001b[0m\u001b[0mdweet_for\u001b[0m\u001b[1;33m(\u001b[0m\u001b[1;34m'cityupayment'\u001b[0m\u001b[1;33m,\u001b[0m\u001b[1;33m{\u001b[0m\u001b[1;34m'f'\u001b[0m\u001b[1;33m:\u001b[0m\u001b[1;34m'0'\u001b[0m\u001b[1;33m}\u001b[0m\u001b[1;33m)\u001b[0m\u001b[1;33m\u001b[0m\u001b[1;33m\u001b[0m\u001b[0m\n\u001b[0;32m    125\u001b[0m     \u001b[1;32melse\u001b[0m\u001b[1;33m:\u001b[0m\u001b[1;33m\u001b[0m\u001b[1;33m\u001b[0m\u001b[0m\n",
      "\u001b[1;32m<ipython-input-15-764f53701916>\u001b[0m in \u001b[0;36mcheckout\u001b[1;34m(_id)\u001b[0m\n\u001b[0;32m     79\u001b[0m     \u001b[0mspace\u001b[0m \u001b[1;33m=\u001b[0m \u001b[1;34m'\\n'\u001b[0m\u001b[1;33m\u001b[0m\u001b[1;33m\u001b[0m\u001b[0m\n\u001b[0;32m     80\u001b[0m     \u001b[1;32mwhile\u001b[0m \u001b[1;32mTrue\u001b[0m\u001b[1;33m:\u001b[0m\u001b[1;33m\u001b[0m\u001b[1;33m\u001b[0m\u001b[0m\n\u001b[1;32m---> 81\u001b[1;33m         \u001b[0mData\u001b[0m \u001b[1;33m=\u001b[0m \u001b[0mdweepy\u001b[0m\u001b[1;33m.\u001b[0m\u001b[0mget_latest_dweet_for\u001b[0m\u001b[1;33m(\u001b[0m\u001b[1;34m'cityupayment'\u001b[0m\u001b[1;33m)\u001b[0m\u001b[1;33m\u001b[0m\u001b[1;33m\u001b[0m\u001b[0m\n\u001b[0m\u001b[0;32m     82\u001b[0m         \u001b[0mflag\u001b[0m\u001b[1;33m=\u001b[0m\u001b[0mData\u001b[0m\u001b[1;33m[\u001b[0m\u001b[1;36m0\u001b[0m\u001b[1;33m]\u001b[0m\u001b[1;33m.\u001b[0m\u001b[0mget\u001b[0m\u001b[1;33m(\u001b[0m\u001b[1;34m'content'\u001b[0m\u001b[1;33m)\u001b[0m\u001b[1;33m.\u001b[0m\u001b[0mget\u001b[0m\u001b[1;33m(\u001b[0m\u001b[1;34m'f'\u001b[0m\u001b[1;33m)\u001b[0m\u001b[1;33m\u001b[0m\u001b[1;33m\u001b[0m\u001b[0m\n\u001b[0;32m     83\u001b[0m         \u001b[1;32mif\u001b[0m \u001b[0mflag\u001b[0m \u001b[1;33m==\u001b[0m \u001b[1;36m1\u001b[0m\u001b[1;33m:\u001b[0m\u001b[1;33m\u001b[0m\u001b[1;33m\u001b[0m\u001b[0m\n",
      "\u001b[1;32m~\\anaconda3\\lib\\site-packages\\dweepy\\api.py\u001b[0m in \u001b[0;36mget_latest_dweet_for\u001b[1;34m(thing_name, key, session)\u001b[0m\n\u001b[0;32m     77\u001b[0m     \u001b[1;32melse\u001b[0m\u001b[1;33m:\u001b[0m\u001b[1;33m\u001b[0m\u001b[1;33m\u001b[0m\u001b[0m\n\u001b[0;32m     78\u001b[0m         \u001b[0mparams\u001b[0m \u001b[1;33m=\u001b[0m \u001b[1;32mNone\u001b[0m\u001b[1;33m\u001b[0m\u001b[1;33m\u001b[0m\u001b[0m\n\u001b[1;32m---> 79\u001b[1;33m     \u001b[1;32mreturn\u001b[0m \u001b[0m_request\u001b[0m\u001b[1;33m(\u001b[0m\u001b[1;34m'get'\u001b[0m\u001b[1;33m,\u001b[0m \u001b[1;34m'/get/latest/dweet/for/{0}'\u001b[0m\u001b[1;33m.\u001b[0m\u001b[0mformat\u001b[0m\u001b[1;33m(\u001b[0m\u001b[0mthing_name\u001b[0m\u001b[1;33m)\u001b[0m\u001b[1;33m,\u001b[0m \u001b[0mparams\u001b[0m\u001b[1;33m=\u001b[0m\u001b[0mparams\u001b[0m\u001b[1;33m,\u001b[0m \u001b[0msession\u001b[0m\u001b[1;33m=\u001b[0m\u001b[0msession\u001b[0m\u001b[1;33m)\u001b[0m\u001b[1;33m\u001b[0m\u001b[1;33m\u001b[0m\u001b[0m\n\u001b[0m\u001b[0;32m     80\u001b[0m \u001b[1;33m\u001b[0m\u001b[0m\n\u001b[0;32m     81\u001b[0m \u001b[1;33m\u001b[0m\u001b[0m\n",
      "\u001b[1;32m~\\anaconda3\\lib\\site-packages\\dweepy\\api.py\u001b[0m in \u001b[0;36m_request\u001b[1;34m(method, url, session, **kwargs)\u001b[0m\n\u001b[0;32m     42\u001b[0m     \u001b[0mresponse_json\u001b[0m \u001b[1;33m=\u001b[0m \u001b[0mresponse\u001b[0m\u001b[1;33m.\u001b[0m\u001b[0mjson\u001b[0m\u001b[1;33m(\u001b[0m\u001b[1;33m)\u001b[0m\u001b[1;33m\u001b[0m\u001b[1;33m\u001b[0m\u001b[0m\n\u001b[0;32m     43\u001b[0m     \u001b[1;32mif\u001b[0m \u001b[0mresponse_json\u001b[0m\u001b[1;33m[\u001b[0m\u001b[1;34m'this'\u001b[0m\u001b[1;33m]\u001b[0m \u001b[1;33m==\u001b[0m \u001b[1;34m'failed'\u001b[0m\u001b[1;33m:\u001b[0m\u001b[1;33m\u001b[0m\u001b[1;33m\u001b[0m\u001b[0m\n\u001b[1;32m---> 44\u001b[1;33m         \u001b[1;32mraise\u001b[0m \u001b[0mDweepyError\u001b[0m\u001b[1;33m(\u001b[0m\u001b[0mresponse_json\u001b[0m\u001b[1;33m[\u001b[0m\u001b[1;34m'because'\u001b[0m\u001b[1;33m]\u001b[0m\u001b[1;33m)\u001b[0m\u001b[1;33m\u001b[0m\u001b[1;33m\u001b[0m\u001b[0m\n\u001b[0m\u001b[0;32m     45\u001b[0m     \u001b[1;32mreturn\u001b[0m \u001b[0mresponse_json\u001b[0m\u001b[1;33m[\u001b[0m\u001b[1;34m'with'\u001b[0m\u001b[1;33m]\u001b[0m\u001b[1;33m\u001b[0m\u001b[1;33m\u001b[0m\u001b[0m\n\u001b[0;32m     46\u001b[0m \u001b[1;33m\u001b[0m\u001b[0m\n",
      "\u001b[1;31mDweepyError\u001b[0m: Rate limit exceeded, try again in 1 second(s)."
     ]
    }
   ],
   "source": [
    "from pathlib import Path\n",
    "import dweepy\n",
    "import time\n",
    "    \n",
    "def getdata():\n",
    "    while True:\n",
    "        data = dweepy.get_latest_dweet_for('cityuArdtoPc')\n",
    "        flag=data[0].get('content').get('f')\n",
    "        print(\"flag = \", flag)\n",
    "        if flag == 1:\n",
    "            #print(\"flag=1\")\n",
    "            _id=data[0].get('content').get('id')\n",
    "\n",
    "            return _id\n",
    "            \n",
    "        time.sleep(2)\n",
    "        \n",
    "def check(_id):\n",
    "    f = open(\"Checkin.txt\", \"r\")\n",
    "    datafile = f.readlines()\n",
    "    for line in datafile:\n",
    "        if line.find(_id)!=-1:\n",
    "            link=line[8:]\n",
    "            return True,link\n",
    "    return False,abc\n",
    "\n",
    "\n",
    "def match(_id):\n",
    "    f = open(\"Shopping list.txt\", \"r\")\n",
    "    datafile = f.readlines()\n",
    "    for line in datafile:\n",
    "        if line.find(_id)!=-1:\n",
    "            IDProduct=line\n",
    "            D,P=IDProduct.split('/',1) #D = dumped ID   P = all Productname*quantity\n",
    "            print(D)\n",
    "            print(P)\n",
    "            return P\n",
    "\n",
    "def Price(P):\n",
    "    q = P.count('/')   #q = number of Product type\n",
    "    print(q)\n",
    "    y = q\n",
    "    Price = 0\n",
    "    Total = 0\n",
    "    thisdict={}\n",
    "    #returnString=\"\"\n",
    "    for y in range(q):\n",
    "        i,o=P.split('/',1)   #i = First Product  o = the rest\n",
    "        #returnString=returnString+i\n",
    "        print(i)                   \n",
    "        print(o)\n",
    "        w,k=i.split('*',1)  #W = Product name  K = quantity\n",
    "        print (w)\n",
    "        print (k)\n",
    "        f = open(\"Product list.txt\", \"r\")\n",
    "        datafile = f.readlines()\n",
    "        for line in datafile:\n",
    "            if line.find(w)!=-1:\n",
    "                PPrice=line\n",
    "                n,p=PPrice.split('$',1)  #n = name p = price\n",
    "                #returnString=returnString+\"$\"+str(int(p))+\"/\"\n",
    "                thisdict[n]=str(int(k))+'$'+str(int(p))\n",
    "                print(n)\n",
    "                print(p)\n",
    "                Pr=int(p)\n",
    "                Q=int(k)\n",
    "                Price = Q*Pr\n",
    "                print(Price)\n",
    "            else:\n",
    "                pass\n",
    "        Total = Total + Price\n",
    "        P = o\n",
    "    print(Total)\n",
    "    print(thisdict)\n",
    "    return thisdict, Total\n",
    "\n",
    "def checkout(_id):\n",
    "    number_of_lines = 0\n",
    "    space = '\\n'\n",
    "    while True:\n",
    "        Data = dweepy.get_latest_dweet_for('cityupayment')\n",
    "        flag=Data[0].get('content').get('f')\n",
    "        if flag == 1:\n",
    "            payment=Data[0].get('content').get('payment')\n",
    "            f= open(\"Checkout.txt\", \"r\")\n",
    "            datafile = f.readlines()\n",
    "            for line in datafile:\n",
    "                line = line.strip(\"\\n\")\n",
    "                number_of_lines += 1\n",
    "                if line.find(_id)!=-1:\n",
    "                    idremain = line\n",
    "                    did,remain = idremain.split('$',1)\n",
    "                    REMAIN = int(remain)\n",
    "                    PAYMENT = int(payment)\n",
    "                    REMAIN = REMAIN - PAYMENT\n",
    "                    newremain = str(REMAIN)\n",
    "                    newremain = '$'+ newremain\n",
    "                    newidremain = _id+newremain\n",
    "                    newidremain = newidremain + space\n",
    "                    break\n",
    "            datafile[number_of_lines - 1] = newidremain\n",
    "            with open('Checkout.txt', 'w') as file:\n",
    "                file.writelines(datafile)\n",
    "        print(newidremain)\n",
    "    return newidremain\n",
    "                          \n",
    "        \n",
    "while True:\n",
    "    _id=getdata() #loop\n",
    "    print(_id)\n",
    "    \n",
    "    checkFlag,link=check(_id)\n",
    "    if checkFlag:\n",
    "        print('True')\n",
    "        a='cityu'+_id\n",
    "        N = match(_id)\n",
    "        B,Total = Price(N)\n",
    "        dweepy.dweet_for(a,B) #data\n",
    "        dweepy.dweet_for('cityuArdtoPc',{'f':'0'})\n",
    "        dweepy.dweet_for('cityuPctoArd',{'f':'1'})\n",
    "        print(link)\n",
    "        time.sleep(2)\n",
    "        R = checkout(_id)\n",
    "        dweepy.dweet_for('cityupayment',{'f':'0'})\n",
    "    else:\n",
    "        dweepy.dweet_for('cityuArdtoPc',{'f':'0'})\n",
    "        dweepy.dweet_for('cityuPctoArd',{'f':'-1'})\n",
    "        print('False')\n",
    "    time.sleep(2)"
   ]
  },
  {
   "cell_type": "code",
   "execution_count": 4,
   "metadata": {},
   "outputs": [
    {
     "name": "stdout",
     "output_type": "stream",
     "text": [
      "9c797a18\n",
      "Apple*6/Chips*3/TOSHIBA 64GB USB*1\n"
     ]
    }
   ],
   "source": [
    "from pathlib import Path\n",
    "import dweepy\n",
    "import time\n",
    "KGB = '9c797a18/Apple*6/Chips*3/TOSHIBA 64GB USB*1'\n",
    "a,b=KGB.split('/',1)\n",
    "print(a)\n",
    "print(b)"
   ]
  },
  {
   "cell_type": "code",
   "execution_count": 16,
   "metadata": {},
   "outputs": [
    {
     "name": "stdout",
     "output_type": "stream",
     "text": [
      "3\n",
      "Apple*6\n",
      "Chips*3/TOSHIBA 64GB USB*1/\n",
      "Apple\n",
      "6\n",
      "Apple\n",
      "5\n",
      "\n",
      "30\n",
      "30\n",
      "Chips*3\n",
      "TOSHIBA 64GB USB*1/\n",
      "Chips\n",
      "3\n",
      "Chips\n",
      "12\n",
      "\n",
      "36\n",
      "66\n",
      "TOSHIBA 64GB USB*1\n",
      "\n",
      "TOSHIBA 64GB USB\n",
      "1\n",
      "TOSHIBA 64GB USB\n",
      "60\n",
      "\n",
      "60\n",
      "126\n"
     ]
    }
   ],
   "source": [
    "from pathlib import Path\n",
    "import dweepy\n",
    "import time\n",
    "p = 'Apple*6/Chips*3/TOSHIBA 64GB USB*1/'\n",
    "q = p.count('/')   #q = number of Product type\n",
    "print(q)\n",
    "y = q\n",
    "Price = 0\n",
    "Total = 0\n",
    "for y in range(q):\n",
    "    i,o=p.split('/',1)   #i = First Product  o = the rest\n",
    "    print(i)                   \n",
    "    print(o)\n",
    "    w,k=i.split('*',1)  #W = Product name  K = quantity\n",
    "    print (w)\n",
    "    print (k)\n",
    "    f = open(\"Product list.txt\", \"r\")\n",
    "    datafile = f.readlines()\n",
    "    for line2 in datafile:\n",
    "        if line2.find(w)!=-1:\n",
    "            PPrice=line2\n",
    "            n,p=PPrice.split('$',1)  #n = name p = price\n",
    "            print(n)\n",
    "            print(p)\n",
    "            P=int(p)\n",
    "            Q=int(k)\n",
    "            Price = Q*P\n",
    "            print(Price)\n",
    "        else:\n",
    "            pass\n",
    "    Total = Total + Price\n",
    "    p = o\n",
    "    print(Total)"
   ]
  },
  {
   "cell_type": "code",
   "execution_count": 1,
   "metadata": {},
   "outputs": [
    {
     "name": "stdout",
     "output_type": "stream",
     "text": [
      "hello 12\n"
     ]
    }
   ],
   "source": [
    "from pathlib import Path\n",
    "x = 12\n",
    "print(\"hello\",x)"
   ]
  },
  {
   "cell_type": "code",
   "execution_count": 32,
   "metadata": {},
   "outputs": [
    {
     "name": "stdout",
     "output_type": "stream",
     "text": [
      "{'abc': 132}\n"
     ]
    }
   ],
   "source": [
    "thisdict={}\n",
    "thisdict[\"abc\"]=132\n",
    "print(thisdict)"
   ]
  },
  {
   "cell_type": "code",
   "execution_count": 22,
   "metadata": {},
   "outputs": [
    {
     "name": "stdout",
     "output_type": "stream",
     "text": [
      "$123\n"
     ]
    }
   ],
   "source": [
    "REMAIN = 123\n",
    "newremain = str(REMAIN)\n",
    "newremain = '$' + newremain\n",
    "print(newremain)"
   ]
  },
  {
   "cell_type": "code",
   "execution_count": null,
   "metadata": {},
   "outputs": [],
   "source": []
  }
 ],
 "metadata": {
  "kernelspec": {
   "display_name": "Python 3",
   "language": "python",
   "name": "python3"
  },
  "language_info": {
   "codemirror_mode": {
    "name": "ipython",
    "version": 3
   },
   "file_extension": ".py",
   "mimetype": "text/x-python",
   "name": "python",
   "nbconvert_exporter": "python",
   "pygments_lexer": "ipython3",
   "version": "3.8.5"
  }
 },
 "nbformat": 4,
 "nbformat_minor": 5
}
